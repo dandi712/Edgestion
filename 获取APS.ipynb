{
 "cells": [
  {
   "cell_type": "code",
   "execution_count": 1,
   "source": [
    "from Editorsuggestion import *"
   ],
   "outputs": [],
   "metadata": {}
  },
  {
   "cell_type": "code",
   "execution_count": 3,
   "source": [
    "APS()"
   ],
   "outputs": [
    {
     "output_type": "stream",
     "name": "stdout",
     "text": [
      "共 123 页\n",
      "共 12206 篇\n",
      "当页记录数 100\n",
      "已完成 100 篇 percent: 0.82%\n",
      "当页记录数 100\n",
      "已完成 200 篇 percent: 1.64%\n",
      "当页记录数 100\n",
      "已完成 300 篇 percent: 2.46%\n",
      "当页记录数 100\n",
      "已完成 400 篇 percent: 3.28%\n",
      "当页记录数 100\n",
      "已完成 500 篇 percent: 4.10%\n",
      "当页记录数 100\n",
      "已完成 600 篇 percent: 4.92%\n",
      "当页记录数 100\n",
      "已完成 700 篇 percent: 5.73%\n",
      "当页记录数 100\n",
      "已完成 800 篇 percent: 6.55%\n",
      "当页记录数 100\n",
      "已完成 900 篇 percent: 7.37%\n",
      "当页记录数 100\n",
      "已完成 1000 篇 percent: 8.19%\n",
      "当页记录数 100\n",
      "已完成 1100 篇 percent: 9.01%\n",
      "当页记录数 100\n",
      "已完成 1200 篇 percent: 9.83%\n",
      "当页记录数 100\n",
      "已完成 1300 篇 percent: 10.65%\n",
      "当页记录数 100\n",
      "已完成 1400 篇 percent: 11.47%\n",
      "当页记录数 100\n",
      "已完成 1500 篇 percent: 12.29%\n",
      "当页记录数 100\n",
      "已完成 1600 篇 percent: 13.11%\n",
      "当页记录数 100\n",
      "已完成 1700 篇 percent: 13.93%\n",
      "当页记录数 100\n",
      "已完成 1800 篇 percent: 14.75%\n",
      "当页记录数 100\n",
      "已完成 1900 篇 percent: 15.57%\n",
      "当页记录数 100\n",
      "已完成 2000 篇 percent: 16.39%\n",
      "当页记录数 100\n",
      "已完成 2100 篇 percent: 17.20%\n",
      "当页记录数 100\n",
      "已完成 2200 篇 percent: 18.02%\n",
      "当页记录数 100\n",
      "已完成 2300 篇 percent: 18.84%\n",
      "当页记录数 100\n",
      "已完成 2400 篇 percent: 19.66%\n",
      "当页记录数 100\n",
      "已完成 2500 篇 percent: 20.48%\n",
      "当页记录数 100\n",
      "已完成 2600 篇 percent: 21.30%\n",
      "当页记录数 100\n",
      "已完成 2700 篇 percent: 22.12%\n",
      "当页记录数 100\n",
      "已完成 2800 篇 percent: 22.94%\n",
      "当页记录数 100\n",
      "已完成 2900 篇 percent: 23.76%\n",
      "当页记录数 100\n",
      "已完成 3000 篇 percent: 24.58%\n",
      "当页记录数 100\n",
      "已完成 3100 篇 percent: 25.40%\n",
      "当页记录数 100\n",
      "已完成 3200 篇 percent: 26.22%\n",
      "当页记录数 100\n",
      "已完成 3300 篇 percent: 27.04%\n",
      "当页记录数 100\n",
      "已完成 3400 篇 percent: 27.86%\n",
      "当页记录数 100\n",
      "已完成 3500 篇 percent: 28.67%\n",
      "当页记录数 100\n",
      "已完成 3600 篇 percent: 29.49%\n",
      "当页记录数 100\n",
      "已完成 3700 篇 percent: 30.31%\n",
      "当页记录数 100\n",
      "已完成 3800 篇 percent: 31.13%\n",
      "当页记录数 100\n",
      "已完成 3900 篇 percent: 31.95%\n",
      "当页记录数 100\n",
      "已完成 4000 篇 percent: 32.77%\n",
      "当页记录数 100\n",
      "已完成 4100 篇 percent: 33.59%\n",
      "当页记录数 100\n",
      "已完成 4200 篇 percent: 34.41%\n",
      "当页记录数 100\n",
      "已完成 4300 篇 percent: 35.23%\n",
      "当页记录数 100\n",
      "已完成 4400 篇 percent: 36.05%\n",
      "当页记录数 100\n",
      "已完成 4500 篇 percent: 36.87%\n",
      "当页记录数 100\n",
      "已完成 4600 篇 percent: 37.69%\n",
      "当页记录数 100\n",
      "已完成 4700 篇 percent: 38.51%\n",
      "当页记录数 100\n",
      "已完成 4800 篇 percent: 39.32%\n",
      "当页记录数 100\n",
      "已完成 4900 篇 percent: 40.14%\n",
      "当页记录数 100\n",
      "已完成 5000 篇 percent: 40.96%\n",
      "当页记录数 100\n",
      "已完成 5100 篇 percent: 41.78%\n",
      "当页记录数 100\n",
      "已完成 5200 篇 percent: 42.60%\n",
      "当页记录数 100\n",
      "已完成 5300 篇 percent: 43.42%\n",
      "当页记录数 100\n",
      "已完成 5400 篇 percent: 44.24%\n",
      "当页记录数 100\n",
      "已完成 5500 篇 percent: 45.06%\n",
      "当页记录数 100\n",
      "已完成 5600 篇 percent: 45.88%\n",
      "当页记录数 100\n",
      "已完成 5700 篇 percent: 46.70%\n",
      "当页记录数 100\n",
      "已完成 5800 篇 percent: 47.52%\n",
      "当页记录数 100\n",
      "已完成 5900 篇 percent: 48.34%\n",
      "当页记录数 100\n",
      "已完成 6000 篇 percent: 49.16%\n",
      "当页记录数 100\n",
      "已完成 6100 篇 percent: 49.98%\n",
      "当页记录数 100\n",
      "已完成 6200 篇 percent: 50.79%\n",
      "当页记录数 100\n",
      "已完成 6300 篇 percent: 51.61%\n",
      "当页记录数 100\n",
      "已完成 6400 篇 percent: 52.43%\n",
      "当页记录数 100\n",
      "已完成 6500 篇 percent: 53.25%\n",
      "当页记录数 100\n",
      "已完成 6600 篇 percent: 54.07%\n",
      "当页记录数 100\n",
      "已完成 6700 篇 percent: 54.89%\n",
      "当页记录数 100\n",
      "已完成 6800 篇 percent: 55.71%\n",
      "当页记录数 100\n",
      "已完成 6900 篇 percent: 56.53%\n",
      "当页记录数 100\n",
      "已完成 7000 篇 percent: 57.35%\n",
      "当页记录数 100\n",
      "已完成 7100 篇 percent: 58.17%\n",
      "当页记录数 100\n",
      "已完成 7200 篇 percent: 58.99%\n",
      "当页记录数 100\n",
      "已完成 7300 篇 percent: 59.81%\n",
      "当页记录数 100\n",
      "已完成 7400 篇 percent: 60.63%\n",
      "当页记录数 100\n",
      "已完成 7500 篇 percent: 61.45%\n",
      "当页记录数 100\n",
      "已完成 7600 篇 percent: 62.26%\n",
      "当页记录数 100\n",
      "已完成 7700 篇 percent: 63.08%\n",
      "当页记录数 100\n",
      "已完成 7800 篇 percent: 63.90%\n",
      "当页记录数 100\n",
      "已完成 7900 篇 percent: 64.72%\n",
      "当页记录数 100\n",
      "已完成 8000 篇 percent: 65.54%\n",
      "当页记录数 100\n",
      "已完成 8100 篇 percent: 66.36%\n",
      "当页记录数 100\n",
      "已完成 8200 篇 percent: 67.18%\n",
      "当页记录数 100\n",
      "已完成 8300 篇 percent: 68.00%\n",
      "当页记录数 100\n",
      "已完成 8400 篇 percent: 68.82%\n",
      "当页记录数 100\n",
      "已完成 8500 篇 percent: 69.64%\n",
      "当页记录数 100\n",
      "已完成 8600 篇 percent: 70.46%\n",
      "当页记录数 100\n",
      "已完成 8700 篇 percent: 71.28%\n",
      "当页记录数 100\n",
      "已完成 8800 篇 percent: 72.10%\n",
      "当页记录数 100\n",
      "已完成 8900 篇 percent: 72.91%\n",
      "当页记录数 100\n",
      "已完成 9000 篇 percent: 73.73%\n",
      "当页记录数 100\n",
      "已完成 9100 篇 percent: 74.55%\n",
      "当页记录数 100\n",
      "已完成 9200 篇 percent: 75.37%\n",
      "当页记录数 100\n",
      "已完成 9300 篇 percent: 76.19%\n",
      "当页记录数 100\n",
      "已完成 9400 篇 percent: 77.01%\n",
      "当页记录数 100\n",
      "已完成 9500 篇 percent: 77.83%\n",
      "当页记录数 100\n",
      "已完成 9600 篇 percent: 78.65%\n",
      "当页记录数 100\n",
      "已完成 9700 篇 percent: 79.47%\n",
      "当页记录数 100\n",
      "已完成 9800 篇 percent: 80.29%\n",
      "当页记录数 100\n",
      "已完成 9900 篇 percent: 81.11%\n",
      "当页记录数 100\n",
      "已完成 10000 篇 percent: 81.93%\n",
      "当页记录数 100\n",
      "已完成 10100 篇 percent: 82.75%\n",
      "当页记录数 100\n",
      "已完成 10200 篇 percent: 83.57%\n",
      "当页记录数 100\n",
      "已完成 10300 篇 percent: 84.38%\n",
      "当页记录数 100\n",
      "已完成 10400 篇 percent: 85.20%\n",
      "当页记录数 100\n",
      "已完成 10500 篇 percent: 86.02%\n",
      "当页记录数 100\n",
      "已完成 10600 篇 percent: 86.84%\n",
      "当页记录数 100\n",
      "已完成 10700 篇 percent: 87.66%\n",
      "当页记录数 100\n",
      "已完成 10800 篇 percent: 88.48%\n",
      "当页记录数 100\n",
      "已完成 10900 篇 percent: 89.30%\n",
      "当页记录数 100\n",
      "已完成 11000 篇 percent: 90.12%\n",
      "当页记录数 100\n",
      "已完成 11100 篇 percent: 90.94%\n",
      "当页记录数 100\n",
      "已完成 11200 篇 percent: 91.76%\n",
      "当页记录数 100\n",
      "已完成 11300 篇 percent: 92.58%\n",
      "当页记录数 100\n",
      "已完成 11400 篇 percent: 93.40%\n",
      "当页记录数 100\n",
      "已完成 11500 篇 percent: 94.22%\n",
      "当页记录数 100\n",
      "已完成 11600 篇 percent: 95.04%\n",
      "当页记录数 100\n",
      "已完成 11700 篇 percent: 95.85%\n",
      "当页记录数 100\n",
      "已完成 11800 篇 percent: 96.67%\n",
      "当页记录数 100\n",
      "已完成 11900 篇 percent: 97.49%\n",
      "当页记录数 100\n",
      "已完成 12000 篇 percent: 98.31%\n",
      "当页记录数 100\n",
      "已完成 12100 篇 percent: 99.13%\n",
      "当页记录数 100\n",
      "已完成 12200 篇 percent: 99.95%\n",
      "当页记录数 6\n",
      "已完成 12206 篇 percent: 100.00%\n",
      "爬取完毕\n",
      "12206\n",
      "开始数据处理\n",
      "数据处理完成\n",
      "检索式生成完成\n",
      "总耗时 375.778635263443 S\n"
     ]
    }
   ],
   "metadata": {}
  },
  {
   "cell_type": "code",
   "execution_count": 4,
   "source": [
    "brower = Openwos()"
   ],
   "outputs": [],
   "metadata": {}
  },
  {
   "cell_type": "code",
   "execution_count": 5,
   "source": [
    "Crul(brower)"
   ],
   "outputs": [
    {
     "output_type": "stream",
     "name": "stdout",
     "text": [
      "第1次\n",
      "第2次\n",
      "第3次\n",
      "第4次\n",
      "第5次\n",
      "第6次\n",
      "第7次\n",
      "第8次\n",
      "第9次\n",
      "第10次\n",
      "第11次\n",
      "第12次\n",
      "第13次\n",
      "下载完成\n"
     ]
    }
   ],
   "metadata": {}
  },
  {
   "cell_type": "code",
   "execution_count": 6,
   "source": [
    "df_all = Concat_xls('APS')\r\n",
    "df_all[df_all.duplicated('DOI',keep = False)][['DOI','UT (Unique ID)','Article Title']]"
   ],
   "outputs": [
    {
     "output_type": "execute_result",
     "data": {
      "text/plain": [
       "                                DOI       UT (Unique ID)  \\\n",
       "65   10.1103/PhysRevLett.119.257202     MEDLINE:29303312   \n",
       "71   10.1103/PhysRevLett.119.257202  WOS:000418382400008   \n",
       "363  10.1103/PhysRevLett.119.112001     MEDLINE:28949228   \n",
       "374  10.1103/PhysRevLett.119.112001  WOS:000410190800002   \n",
       "333  10.1103/PhysRevLett.117.131302  WOS:000383851000004   \n",
       "36   10.1103/PhysRevLett.117.131302  WOS:000515074200005   \n",
       "807  10.1103/PhysRevLett.109.213002  WOS:000315662500012   \n",
       "922  10.1103/PhysRevLett.109.213002  WOS:000311374500002   \n",
       "510  10.1103/PhysRevLett.100.048701  WOS:000266955800008   \n",
       "992  10.1103/PhysRevLett.100.048701  WOS:000252863400100   \n",
       "113   10.1103/PhysRevLett.98.166804     MEDLINE:17501448   \n",
       "114   10.1103/PhysRevLett.98.166804  WOS:000245871200054   \n",
       "124   10.1103/PhysRevLett.98.130602     MEDLINE:17501176   \n",
       "125   10.1103/PhysRevLett.98.130602  WOS:000245331500009   \n",
       "\n",
       "                                         Article Title  \n",
       "65   Fracton Topological Phases from Strongly Coupl...  \n",
       "71   Fracton Topological Phases from Strongly Coupl...  \n",
       "363  Observation of the Doubly Charmed Baryon Xi_{c...  \n",
       "374  Observation of the Doubly Charmed Baryon Xi(++...  \n",
       "333                     How Isotropic is the Universe?  \n",
       "36                            Isotropy of the Universe  \n",
       "807                'Hyper' Ramsey excitation confirmed  \n",
       "922  Generalized Ramsey Excitation Scheme with Supp...  \n",
       "510         Snakes locate prey through vibration waves  \n",
       "992  Auditory localization of ground-borne vibratio...  \n",
       "113  B80 fullerene: an Ab initio prediction of geom...  \n",
       "114  B-80 fullerene: An ab initio prediction of geo...  \n",
       "124  Collective working regimes for coupled heat en...  \n",
       "125  Collective working regimes for coupled heat en...  "
      ],
      "text/html": [
       "<div>\n",
       "<style scoped>\n",
       "    .dataframe tbody tr th:only-of-type {\n",
       "        vertical-align: middle;\n",
       "    }\n",
       "\n",
       "    .dataframe tbody tr th {\n",
       "        vertical-align: top;\n",
       "    }\n",
       "\n",
       "    .dataframe thead th {\n",
       "        text-align: right;\n",
       "    }\n",
       "</style>\n",
       "<table border=\"1\" class=\"dataframe\">\n",
       "  <thead>\n",
       "    <tr style=\"text-align: right;\">\n",
       "      <th></th>\n",
       "      <th>DOI</th>\n",
       "      <th>UT (Unique ID)</th>\n",
       "      <th>Article Title</th>\n",
       "    </tr>\n",
       "  </thead>\n",
       "  <tbody>\n",
       "    <tr>\n",
       "      <th>65</th>\n",
       "      <td>10.1103/PhysRevLett.119.257202</td>\n",
       "      <td>MEDLINE:29303312</td>\n",
       "      <td>Fracton Topological Phases from Strongly Coupl...</td>\n",
       "    </tr>\n",
       "    <tr>\n",
       "      <th>71</th>\n",
       "      <td>10.1103/PhysRevLett.119.257202</td>\n",
       "      <td>WOS:000418382400008</td>\n",
       "      <td>Fracton Topological Phases from Strongly Coupl...</td>\n",
       "    </tr>\n",
       "    <tr>\n",
       "      <th>363</th>\n",
       "      <td>10.1103/PhysRevLett.119.112001</td>\n",
       "      <td>MEDLINE:28949228</td>\n",
       "      <td>Observation of the Doubly Charmed Baryon Xi_{c...</td>\n",
       "    </tr>\n",
       "    <tr>\n",
       "      <th>374</th>\n",
       "      <td>10.1103/PhysRevLett.119.112001</td>\n",
       "      <td>WOS:000410190800002</td>\n",
       "      <td>Observation of the Doubly Charmed Baryon Xi(++...</td>\n",
       "    </tr>\n",
       "    <tr>\n",
       "      <th>333</th>\n",
       "      <td>10.1103/PhysRevLett.117.131302</td>\n",
       "      <td>WOS:000383851000004</td>\n",
       "      <td>How Isotropic is the Universe?</td>\n",
       "    </tr>\n",
       "    <tr>\n",
       "      <th>36</th>\n",
       "      <td>10.1103/PhysRevLett.117.131302</td>\n",
       "      <td>WOS:000515074200005</td>\n",
       "      <td>Isotropy of the Universe</td>\n",
       "    </tr>\n",
       "    <tr>\n",
       "      <th>807</th>\n",
       "      <td>10.1103/PhysRevLett.109.213002</td>\n",
       "      <td>WOS:000315662500012</td>\n",
       "      <td>'Hyper' Ramsey excitation confirmed</td>\n",
       "    </tr>\n",
       "    <tr>\n",
       "      <th>922</th>\n",
       "      <td>10.1103/PhysRevLett.109.213002</td>\n",
       "      <td>WOS:000311374500002</td>\n",
       "      <td>Generalized Ramsey Excitation Scheme with Supp...</td>\n",
       "    </tr>\n",
       "    <tr>\n",
       "      <th>510</th>\n",
       "      <td>10.1103/PhysRevLett.100.048701</td>\n",
       "      <td>WOS:000266955800008</td>\n",
       "      <td>Snakes locate prey through vibration waves</td>\n",
       "    </tr>\n",
       "    <tr>\n",
       "      <th>992</th>\n",
       "      <td>10.1103/PhysRevLett.100.048701</td>\n",
       "      <td>WOS:000252863400100</td>\n",
       "      <td>Auditory localization of ground-borne vibratio...</td>\n",
       "    </tr>\n",
       "    <tr>\n",
       "      <th>113</th>\n",
       "      <td>10.1103/PhysRevLett.98.166804</td>\n",
       "      <td>MEDLINE:17501448</td>\n",
       "      <td>B80 fullerene: an Ab initio prediction of geom...</td>\n",
       "    </tr>\n",
       "    <tr>\n",
       "      <th>114</th>\n",
       "      <td>10.1103/PhysRevLett.98.166804</td>\n",
       "      <td>WOS:000245871200054</td>\n",
       "      <td>B-80 fullerene: An ab initio prediction of geo...</td>\n",
       "    </tr>\n",
       "    <tr>\n",
       "      <th>124</th>\n",
       "      <td>10.1103/PhysRevLett.98.130602</td>\n",
       "      <td>MEDLINE:17501176</td>\n",
       "      <td>Collective working regimes for coupled heat en...</td>\n",
       "    </tr>\n",
       "    <tr>\n",
       "      <th>125</th>\n",
       "      <td>10.1103/PhysRevLett.98.130602</td>\n",
       "      <td>WOS:000245331500009</td>\n",
       "      <td>Collective working regimes for coupled heat en...</td>\n",
       "    </tr>\n",
       "  </tbody>\n",
       "</table>\n",
       "</div>"
      ]
     },
     "metadata": {},
     "execution_count": 6
    }
   ],
   "metadata": {}
  },
  {
   "cell_type": "code",
   "execution_count": 7,
   "source": [
    "df_all = df_all[df_all['UT (Unique ID)'] != 'MEDLINE:29303312']\r\n",
    "df_all = df_all[df_all['UT (Unique ID)'] != 'MEDLINE:28949228']\r\n",
    "df_all = df_all[df_all['UT (Unique ID)'] != 'WOS:000515074200005']\r\n",
    "df_all = df_all[df_all['UT (Unique ID)'] != 'WOS:000315662500012']\r\n",
    "df_all = df_all[df_all['UT (Unique ID)'] != 'WOS:000311374500002']\r\n",
    "df_all = df_all[df_all['UT (Unique ID)'] != 'WOS:000266955800008']\r\n",
    "df_all = df_all[df_all['UT (Unique ID)'] != 'MEDLINE:17501448']\r\n",
    "df_all = df_all[df_all['UT (Unique ID)'] != 'MEDLINE:17501176']"
   ],
   "outputs": [],
   "metadata": {}
  },
  {
   "cell_type": "code",
   "execution_count": 5,
   "source": [
    "Updatewos_APS(df_all)"
   ],
   "outputs": [
    {
     "output_type": "error",
     "ename": "NameError",
     "evalue": "name 'df_all' is not defined",
     "traceback": [
      "\u001b[1;31m---------------------------------------------------------------------------\u001b[0m",
      "\u001b[1;31mNameError\u001b[0m                                 Traceback (most recent call last)",
      "\u001b[1;32m<ipython-input-5-ed55bbef8879>\u001b[0m in \u001b[0;36m<module>\u001b[1;34m\u001b[0m\n\u001b[1;32m----> 1\u001b[1;33m \u001b[0mUpdatewos_APS\u001b[0m\u001b[1;33m(\u001b[0m\u001b[0mdf_all\u001b[0m\u001b[1;33m)\u001b[0m\u001b[1;33m\u001b[0m\u001b[1;33m\u001b[0m\u001b[0m\n\u001b[0m",
      "\u001b[1;31mNameError\u001b[0m: name 'df_all' is not defined"
     ]
    }
   ],
   "metadata": {}
  },
  {
   "cell_type": "code",
   "execution_count": 17,
   "source": [
    "CheckAPS()"
   ],
   "outputs": [
    {
     "output_type": "stream",
     "name": "stdout",
     "text": [
      "仍有 37 条空记录请检查aps_null.csv文件\n"
     ]
    }
   ],
   "metadata": {}
  },
  {
   "cell_type": "code",
   "execution_count": 18,
   "source": [
    "df = pd.read_csv(r'./aps_null.csv')\r\n",
    "Updatewos_APS(df)"
   ],
   "outputs": [
    {
     "output_type": "stream",
     "name": "stdout",
     "text": [
      "完成更新，共 37 条记录\n"
     ]
    }
   ],
   "metadata": {}
  },
  {
   "cell_type": "code",
   "execution_count": null,
   "source": [],
   "outputs": [],
   "metadata": {}
  },
  {
   "cell_type": "code",
   "execution_count": 19,
   "source": [
    "CheckAPS()"
   ],
   "outputs": [
    {
     "output_type": "stream",
     "name": "stdout",
     "text": [
      "仍有 28 条空记录请检查aps_null.csv文件\n"
     ]
    }
   ],
   "metadata": {}
  },
  {
   "cell_type": "markdown",
   "source": [
    "# 开始做更新"
   ],
   "metadata": {}
  },
  {
   "cell_type": "markdown",
   "source": [],
   "metadata": {}
  },
  {
   "cell_type": "code",
   "execution_count": 2,
   "source": [
    "UpdateAPS()"
   ],
   "outputs": [
    {
     "output_type": "stream",
     "name": "stdout",
     "text": [
      "共 123 页\n",
      "共 12213 篇\n",
      "当页记录数 100\n",
      "无新纪录\n",
      "爬取完毕\n",
      "7\n",
      "开始数据处理\n",
      "数据处理完成\n",
      "记录上传成功\n",
      "开始生成检索式\n",
      "检索式生成完成\n"
     ]
    }
   ],
   "metadata": {}
  },
  {
   "cell_type": "code",
   "execution_count": 3,
   "source": [
    "brower = Openwos()"
   ],
   "outputs": [],
   "metadata": {}
  },
  {
   "cell_type": "code",
   "execution_count": null,
   "source": [
    "Crul(brower)"
   ],
   "outputs": [],
   "metadata": {}
  },
  {
   "cell_type": "code",
   "execution_count": 4,
   "source": [
    "df_all = Concat_xls('APS')\r\n",
    "\r\n"
   ],
   "outputs": [],
   "metadata": {}
  },
  {
   "cell_type": "code",
   "execution_count": 5,
   "source": [
    "df_all[df_all.duplicated('DOI',keep = False)][['DOI','UT (Unique ID)','Article Title']]"
   ],
   "outputs": [
    {
     "output_type": "execute_result",
     "data": {
      "text/plain": [
       "Empty DataFrame\n",
       "Columns: [DOI, UT (Unique ID), Article Title]\n",
       "Index: []"
      ],
      "text/html": [
       "<div>\n",
       "<style scoped>\n",
       "    .dataframe tbody tr th:only-of-type {\n",
       "        vertical-align: middle;\n",
       "    }\n",
       "\n",
       "    .dataframe tbody tr th {\n",
       "        vertical-align: top;\n",
       "    }\n",
       "\n",
       "    .dataframe thead th {\n",
       "        text-align: right;\n",
       "    }\n",
       "</style>\n",
       "<table border=\"1\" class=\"dataframe\">\n",
       "  <thead>\n",
       "    <tr style=\"text-align: right;\">\n",
       "      <th></th>\n",
       "      <th>DOI</th>\n",
       "      <th>UT (Unique ID)</th>\n",
       "      <th>Article Title</th>\n",
       "    </tr>\n",
       "  </thead>\n",
       "  <tbody>\n",
       "  </tbody>\n",
       "</table>\n",
       "</div>"
      ]
     },
     "metadata": {},
     "execution_count": 5
    }
   ],
   "metadata": {}
  },
  {
   "cell_type": "code",
   "execution_count": 6,
   "source": [
    "Updatewos_APS(df_all)"
   ],
   "outputs": [
    {
     "output_type": "stream",
     "name": "stdout",
     "text": [
      "完成更新，共 3 条记录\n"
     ]
    }
   ],
   "metadata": {}
  },
  {
   "cell_type": "code",
   "execution_count": 7,
   "source": [
    "CheckAPS()"
   ],
   "outputs": [
    {
     "output_type": "stream",
     "name": "stdout",
     "text": [
      "仍有 32 条空记录请检查aps_null.csv文件\n"
     ]
    }
   ],
   "metadata": {}
  },
  {
   "cell_type": "code",
   "execution_count": 8,
   "source": [
    "df = pd.read_csv(r'./aps_null.csv')\r\n",
    "Updatewos_APS(df)"
   ],
   "outputs": [
    {
     "output_type": "stream",
     "name": "stdout",
     "text": [
      "完成更新，共 32 条记录\n"
     ]
    }
   ],
   "metadata": {}
  },
  {
   "cell_type": "code",
   "execution_count": 2,
   "source": [
    "Backup('APS')"
   ],
   "outputs": [],
   "metadata": {}
  },
  {
   "cell_type": "code",
   "execution_count": null,
   "source": [],
   "outputs": [],
   "metadata": {}
  }
 ],
 "metadata": {
  "orig_nbformat": 4,
  "language_info": {
   "name": "python",
   "version": "3.8.8",
   "mimetype": "text/x-python",
   "codemirror_mode": {
    "name": "ipython",
    "version": 3
   },
   "pygments_lexer": "ipython3",
   "nbconvert_exporter": "python",
   "file_extension": ".py"
  },
  "kernelspec": {
   "name": "python3",
   "display_name": "Python 3.8.8 64-bit ('base': conda)"
  },
  "interpreter": {
   "hash": "07efdcd4b820c98a756949507a4d29d7862823915ec7477944641bea022f4f62"
  }
 },
 "nbformat": 4,
 "nbformat_minor": 2
}