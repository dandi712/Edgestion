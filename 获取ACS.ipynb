{
 "cells": [
  {
   "cell_type": "code",
   "execution_count": 1,
   "source": [
    "from Editorsuggestion import *"
   ],
   "outputs": [],
   "metadata": {}
  },
  {
   "cell_type": "code",
   "execution_count": 2,
   "source": [
    "ACS()"
   ],
   "outputs": [
    {
     "output_type": "stream",
     "name": "stdout",
     "text": [
      "1\n",
      "记录数 20\n",
      "2\n",
      "记录数 40\n",
      "3\n",
      "记录数 60\n",
      "4\n",
      "记录数 80\n",
      "5\n",
      "记录数 100\n",
      "6\n",
      "记录数 120\n",
      "7\n",
      "记录数 140\n",
      "8\n",
      "记录数 160\n",
      "9\n",
      "记录数 180\n",
      "10\n",
      "记录数 200\n",
      "11\n",
      "记录数 220\n",
      "12\n",
      "记录数 240\n",
      "13\n",
      "记录数 260\n",
      "14\n",
      "记录数 280\n",
      "15\n",
      "记录数 300\n",
      "16\n",
      "记录数 320\n",
      "17\n",
      "记录数 340\n",
      "18\n",
      "记录数 360\n",
      "19\n",
      "记录数 380\n",
      "20\n",
      "记录数 400\n",
      "21\n",
      "记录数 420\n",
      "22\n",
      "记录数 440\n",
      "23\n",
      "记录数 460\n",
      "24\n",
      "记录数 480\n",
      "25\n",
      "记录数 500\n",
      "26\n",
      "记录数 520\n",
      "27\n",
      "记录数 540\n",
      "28\n",
      "记录数 560\n",
      "29\n",
      "记录数 580\n",
      "30\n",
      "记录数 600\n",
      "31\n",
      "记录数 620\n",
      "32\n",
      "记录数 640\n",
      "33\n",
      "记录数 660\n",
      "34\n",
      "记录数 680\n",
      "35\n",
      "记录数 700\n",
      "36\n",
      "记录数 720\n",
      "37\n",
      "记录数 740\n",
      "38\n",
      "记录数 760\n",
      "39\n",
      "记录数 780\n",
      "40\n",
      "记录数 800\n",
      "41\n",
      "记录数 820\n",
      "42\n",
      "记录数 840\n",
      "43\n",
      "记录数 860\n",
      "44\n",
      "记录数 880\n",
      "45\n",
      "记录数 900\n",
      "46\n",
      "记录数 920\n",
      "47\n",
      "记录数 940\n",
      "48\n",
      "记录数 960\n",
      "49\n",
      "记录数 980\n",
      "50\n",
      "记录数 1000\n",
      "51\n",
      "记录数 1020\n",
      "52\n",
      "记录数 1040\n",
      "53\n",
      "记录数 1060\n",
      "54\n",
      "记录数 1080\n",
      "55\n",
      "记录数 1100\n",
      "56\n",
      "记录数 1120\n",
      "57\n",
      "记录数 1140\n",
      "58\n",
      "记录数 1160\n",
      "59\n",
      "记录数 1180\n",
      "60\n",
      "记录数 1200\n",
      "61\n",
      "记录数 1220\n",
      "62\n",
      "记录数 1240\n",
      "63\n",
      "记录数 1260\n",
      "64\n",
      "记录数 1280\n",
      "65\n",
      "记录数 1300\n",
      "66\n",
      "记录数 1320\n",
      "67\n",
      "记录数 1340\n",
      "68\n",
      "记录数 1360\n",
      "69\n",
      "记录数 1380\n",
      "70\n",
      "记录数 1400\n",
      "71\n",
      "记录数 1420\n",
      "72\n",
      "记录数 1440\n",
      "73\n",
      "记录数 1460\n",
      "74\n",
      "记录数 1480\n",
      "75\n",
      "记录数 1500\n",
      "76\n",
      "记录数 1520\n",
      "77\n",
      "记录数 1540\n",
      "78\n",
      "记录数 1560\n",
      "79\n",
      "记录数 1580\n",
      "80\n",
      "记录数 1600\n",
      "81\n",
      "记录数 1620\n",
      "82\n",
      "记录数 1640\n",
      "83\n",
      "记录数 1660\n",
      "84\n",
      "记录数 1680\n",
      "85\n",
      "记录数 1700\n",
      "86\n",
      "记录数 1720\n",
      "87\n",
      "记录数 1740\n",
      "88\n",
      "记录数 1760\n",
      "89\n",
      "记录数 1780\n",
      "90\n",
      "记录数 1800\n",
      "91\n",
      "记录数 1820\n",
      "92\n",
      "记录数 1840\n",
      "93\n",
      "记录数 1860\n",
      "94\n",
      "记录数 1880\n",
      "95\n",
      "记录数 1900\n",
      "96\n",
      "记录数 1920\n",
      "97\n",
      "记录数 1940\n",
      "98\n",
      "记录数 1960\n",
      "99\n",
      "记录数 1980\n",
      "100\n",
      "记录数 2000\n",
      "101\n",
      "记录数 2020\n",
      "102\n",
      "记录数 2020\n",
      "爬取完毕\n",
      "2020\n",
      "开始数据处理\n",
      "数据处理完成\n",
      "检索式生成完成\n",
      "总耗时 504.13162636756897 S\n"
     ]
    }
   ],
   "metadata": {}
  },
  {
   "cell_type": "code",
   "execution_count": 3,
   "source": [
    "brower = Openwos()"
   ],
   "outputs": [],
   "metadata": {}
  },
  {
   "cell_type": "code",
   "execution_count": 6,
   "source": [
    "Crul(brower)"
   ],
   "outputs": [
    {
     "output_type": "stream",
     "name": "stdout",
     "text": [
      "第1次\n",
      "第2次\n",
      "第3次\n",
      "下载完成\n"
     ]
    }
   ],
   "metadata": {}
  },
  {
   "cell_type": "code",
   "execution_count": 7,
   "source": [
    "#移动文件\r\n",
    "df_all = Concat_xls('ACS')\r\n",
    "df_all[df_all.duplicated('DOI',keep = False)][['DOI','UT (Unique ID)','Article Title']]\r\n"
   ],
   "outputs": [
    {
     "output_type": "execute_result",
     "data": {
      "text/plain": [
       "                             DOI       UT (Unique ID)  \\\n",
       "34      10.1021/acs.jpca.1c05194  WOS:000672731100001   \n",
       "35      10.1021/acs.jpca.1c05194     MEDLINE:34259000   \n",
       "36      10.1021/acs.jpca.1c05194     MEDLINE:34181417   \n",
       "173      10.1021/acsnano.8b00047  WOS:000436216800002   \n",
       "226      10.1021/acsnano.8b00047  WOS:000431088200011   \n",
       "425  10.1021/acsinfecdis.7b00064  WOS:000417405100003   \n",
       "457  10.1021/acsinfecdis.7b00064  WOS:000407771400006   \n",
       "\n",
       "                                         Article Title  \n",
       "34   A Black Scientist's Retrospective of His Life ...  \n",
       "35   A Black Scientist's Retrospective of His Life ...  \n",
       "36   A Black Scientist's Retrospective of His Life ...  \n",
       "173     Fire-resistant nano-wallpaper sounds the alarm  \n",
       "226  Fire Alarm Wallpaper Based on Fire-Resistant H...  \n",
       "425                Sugar in Breast Milk kills Bacteria  \n",
       "457  Human Milk Oligosaccharides Exhibit Antimicrob...  "
      ],
      "text/html": [
       "<div>\n",
       "<style scoped>\n",
       "    .dataframe tbody tr th:only-of-type {\n",
       "        vertical-align: middle;\n",
       "    }\n",
       "\n",
       "    .dataframe tbody tr th {\n",
       "        vertical-align: top;\n",
       "    }\n",
       "\n",
       "    .dataframe thead th {\n",
       "        text-align: right;\n",
       "    }\n",
       "</style>\n",
       "<table border=\"1\" class=\"dataframe\">\n",
       "  <thead>\n",
       "    <tr style=\"text-align: right;\">\n",
       "      <th></th>\n",
       "      <th>DOI</th>\n",
       "      <th>UT (Unique ID)</th>\n",
       "      <th>Article Title</th>\n",
       "    </tr>\n",
       "  </thead>\n",
       "  <tbody>\n",
       "    <tr>\n",
       "      <th>34</th>\n",
       "      <td>10.1021/acs.jpca.1c05194</td>\n",
       "      <td>WOS:000672731100001</td>\n",
       "      <td>A Black Scientist's Retrospective of His Life ...</td>\n",
       "    </tr>\n",
       "    <tr>\n",
       "      <th>35</th>\n",
       "      <td>10.1021/acs.jpca.1c05194</td>\n",
       "      <td>MEDLINE:34259000</td>\n",
       "      <td>A Black Scientist's Retrospective of His Life ...</td>\n",
       "    </tr>\n",
       "    <tr>\n",
       "      <th>36</th>\n",
       "      <td>10.1021/acs.jpca.1c05194</td>\n",
       "      <td>MEDLINE:34181417</td>\n",
       "      <td>A Black Scientist's Retrospective of His Life ...</td>\n",
       "    </tr>\n",
       "    <tr>\n",
       "      <th>173</th>\n",
       "      <td>10.1021/acsnano.8b00047</td>\n",
       "      <td>WOS:000436216800002</td>\n",
       "      <td>Fire-resistant nano-wallpaper sounds the alarm</td>\n",
       "    </tr>\n",
       "    <tr>\n",
       "      <th>226</th>\n",
       "      <td>10.1021/acsnano.8b00047</td>\n",
       "      <td>WOS:000431088200011</td>\n",
       "      <td>Fire Alarm Wallpaper Based on Fire-Resistant H...</td>\n",
       "    </tr>\n",
       "    <tr>\n",
       "      <th>425</th>\n",
       "      <td>10.1021/acsinfecdis.7b00064</td>\n",
       "      <td>WOS:000417405100003</td>\n",
       "      <td>Sugar in Breast Milk kills Bacteria</td>\n",
       "    </tr>\n",
       "    <tr>\n",
       "      <th>457</th>\n",
       "      <td>10.1021/acsinfecdis.7b00064</td>\n",
       "      <td>WOS:000407771400006</td>\n",
       "      <td>Human Milk Oligosaccharides Exhibit Antimicrob...</td>\n",
       "    </tr>\n",
       "  </tbody>\n",
       "</table>\n",
       "</div>"
      ]
     },
     "metadata": {},
     "execution_count": 7
    }
   ],
   "metadata": {}
  },
  {
   "cell_type": "code",
   "execution_count": 8,
   "source": [
    "df_all = df_all[df_all['UT (Unique ID)'] != 'WOS:000436216800002']\r\n",
    "df_all = df_all[df_all['UT (Unique ID)'] != 'WOS:000417405100003']\r\n",
    "df_all = df_all[df_all['UT (Unique ID)'] != 'MEDLINE:34259000']\r\n",
    "df_all = df_all[df_all['UT (Unique ID)'] != 'MEDLINE:34181417']"
   ],
   "outputs": [],
   "metadata": {}
  },
  {
   "cell_type": "code",
   "execution_count": 9,
   "source": [
    "Updatewos_ACS(df_all)"
   ],
   "outputs": [
    {
     "output_type": "stream",
     "name": "stdout",
     "text": [
      "完成更新，共 1997 条记录\n"
     ]
    }
   ],
   "metadata": {}
  },
  {
   "cell_type": "code",
   "execution_count": 11,
   "source": [
    "CheckACS()\r\n"
   ],
   "outputs": [
    {
     "output_type": "stream",
     "name": "stdout",
     "text": [
      "仍有 28 条空记录请检查acs_null.csv文件\n"
     ]
    }
   ],
   "metadata": {}
  },
  {
   "cell_type": "code",
   "execution_count": 14,
   "source": [
    "df = pd.read_csv(r'./acs_null.csv')\r\n",
    "Updatewos_ACS(df)"
   ],
   "outputs": [
    {
     "output_type": "stream",
     "name": "stdout",
     "text": [
      "完成更新，共 28 条记录\n"
     ]
    }
   ],
   "metadata": {}
  },
  {
   "cell_type": "code",
   "execution_count": 16,
   "source": [
    "CheckACS()\r\n"
   ],
   "outputs": [
    {
     "output_type": "stream",
     "name": "stdout",
     "text": [
      "仍有 24 条空记录请检查acs_null.csv文件\n"
     ]
    }
   ],
   "metadata": {}
  },
  {
   "cell_type": "code",
   "execution_count": 4,
   "source": [
    "UpdateACS()\r\n"
   ],
   "outputs": [
    {
     "output_type": "stream",
     "name": "stdout",
     "text": [
      "1\n",
      "记录数 1\n",
      "爬取完毕\n",
      "1\n",
      "开始数据处理\n",
      "数据处理完成\n",
      "记录上传成功\n",
      "检索式生成完成\n"
     ]
    }
   ],
   "metadata": {}
  },
  {
   "cell_type": "code",
   "execution_count": 3,
   "source": [
    "brower = Openwos()"
   ],
   "outputs": [],
   "metadata": {}
  },
  {
   "cell_type": "code",
   "execution_count": null,
   "source": [
    "Crul(brower)\r\n"
   ],
   "outputs": [],
   "metadata": {}
  },
  {
   "cell_type": "code",
   "execution_count": null,
   "source": [
    "df_all = Concat_xls('ACS')\r\n",
    "df_all[df_all.duplicated('DOI',keep = False)][['DOI','UT (Unique ID)','Article Title']]\r\n",
    "df_all = df_all[df_all['UT (Unique ID)'] != 'WOS:000436216800002']\r\n",
    "df_all = df_all[df_all['UT (Unique ID)'] != 'WOS:000417405100003']\r\n",
    "df_all = df_all[df_all['UT (Unique ID)'] != 'MEDLINE:34259000']\r\n",
    "df_all = df_all[df_all['UT (Unique ID)'] != 'MEDLINE:34181417']"
   ],
   "outputs": [],
   "metadata": {}
  },
  {
   "cell_type": "code",
   "execution_count": 4,
   "source": [
    "CheckACS()"
   ],
   "outputs": [
    {
     "output_type": "stream",
     "name": "stdout",
     "text": [
      "仍有 1 条空记录请检查acs_null.csv文件\n"
     ]
    }
   ],
   "metadata": {}
  },
  {
   "cell_type": "code",
   "execution_count": null,
   "source": [
    "df = pd.read_csv(r'./acs_null.csv')\r\n",
    "Updatewos_ACS(df)"
   ],
   "outputs": [],
   "metadata": {}
  },
  {
   "cell_type": "code",
   "execution_count": 4,
   "source": [
    "Backup('ACS')"
   ],
   "outputs": [],
   "metadata": {}
  },
  {
   "cell_type": "code",
   "execution_count": 3,
   "source": [
    "#恢复记录\r\n",
    "df = pd.read_csv(r\"E:\\PycharmProject\\Edgestion\\Backup\\ACSbackup2021-08-18.csv\")\r\n",
    "ACSuploadData(df,key)"
   ],
   "outputs": [],
   "metadata": {}
  },
  {
   "cell_type": "code",
   "execution_count": 1,
   "source": [
    "import glob\r\n",
    "lst = glob.glob(r'C:\\Users\\DELL\\Documents\\WXWork\\1688851110853101\\Cache\\File\\2021-08\\markdown\\*.md')"
   ],
   "outputs": [],
   "metadata": {}
  },
  {
   "cell_type": "code",
   "execution_count": 6,
   "source": [
    "lst_new = []\r\n",
    "for li in lst:\r\n",
    "    lst_new.append(li.split('\\\\')[-1].replace('.md',''))"
   ],
   "outputs": [],
   "metadata": {}
  },
  {
   "cell_type": "code",
   "execution_count": 8,
   "source": [
    "import pandas as pd\r\n",
    "df = pd.DataFrame(lst_new)\r\n",
    "df.to_excel(r'C:\\Users\\DELL\\Documents\\WXWork\\1688851110853101\\Cache\\File\\2021-08\\md.xlsx',index =False)"
   ],
   "outputs": [],
   "metadata": {}
  },
  {
   "cell_type": "code",
   "execution_count": null,
   "source": [],
   "outputs": [],
   "metadata": {}
  }
 ],
 "metadata": {
  "orig_nbformat": 4,
  "language_info": {
   "name": "python",
   "version": "3.8.8",
   "mimetype": "text/x-python",
   "codemirror_mode": {
    "name": "ipython",
    "version": 3
   },
   "pygments_lexer": "ipython3",
   "nbconvert_exporter": "python",
   "file_extension": ".py"
  },
  "kernelspec": {
   "name": "python3",
   "display_name": "Python 3.8.8 64-bit ('base': conda)"
  },
  "interpreter": {
   "hash": "07efdcd4b820c98a756949507a4d29d7862823915ec7477944641bea022f4f62"
  }
 },
 "nbformat": 4,
 "nbformat_minor": 2
}